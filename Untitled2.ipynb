{
 "cells": [
  {
   "cell_type": "code",
   "execution_count": 2,
   "id": "46381346-bb79-4db5-88a5-93021bd23b59",
   "metadata": {
    "tags": []
   },
   "outputs": [
    {
     "name": "stdout",
     "output_type": "stream",
     "text": [
      "3 rd day\n"
     ]
    }
   ],
   "source": [
    "print(\"3 rd day\")"
   ]
  },
  {
   "cell_type": "code",
   "execution_count": 3,
   "id": "00632804-725d-4bba-a9ac-4c174940e043",
   "metadata": {
    "tags": []
   },
   "outputs": [
    {
     "data": {
      "text/plain": [
       "{1: 'pavan', 2: 23, 3: 45, 4: 'singh'}"
      ]
     },
     "execution_count": 3,
     "metadata": {},
     "output_type": "execute_result"
    }
   ],
   "source": [
    "dict={1:\"pavan\",2:23,3:45,4:\"singh\"}\n",
    "dict"
   ]
  },
  {
   "cell_type": "code",
   "execution_count": 4,
   "id": "b53b643f-f9fe-4e7e-87c0-e43ac4bbdf4b",
   "metadata": {
    "tags": []
   },
   "outputs": [
    {
     "data": {
      "text/plain": [
       "23"
      ]
     },
     "execution_count": 4,
     "metadata": {},
     "output_type": "execute_result"
    }
   ],
   "source": [
    "dict[2]"
   ]
  },
  {
   "cell_type": "code",
   "execution_count": 5,
   "id": "ec0dc9b4-7752-44b0-896c-a2fc097274aa",
   "metadata": {
    "tags": []
   },
   "outputs": [
    {
     "ename": "KeyError",
     "evalue": "'pavan'",
     "output_type": "error",
     "traceback": [
      "\u001b[1;31m---------------------------------------------------------------------------\u001b[0m",
      "\u001b[1;31mKeyError\u001b[0m                                  Traceback (most recent call last)",
      "Cell \u001b[1;32mIn[5], line 1\u001b[0m\n\u001b[1;32m----> 1\u001b[0m \u001b[38;5;28;43mdict\u001b[39;49m\u001b[43m[\u001b[49m\u001b[38;5;124;43m\"\u001b[39;49m\u001b[38;5;124;43mpavan\u001b[39;49m\u001b[38;5;124;43m\"\u001b[39;49m\u001b[43m]\u001b[49m\n",
      "\u001b[1;31mKeyError\u001b[0m: 'pavan'"
     ]
    }
   ],
   "source": [
    "dict[\"pavan\"]"
   ]
  },
  {
   "cell_type": "code",
   "execution_count": 6,
   "id": "72db3f33-0755-4aca-b6b8-89764228c8e2",
   "metadata": {
    "tags": []
   },
   "outputs": [],
   "source": [
    "dict[7]=100"
   ]
  },
  {
   "cell_type": "code",
   "execution_count": 7,
   "id": "e23f2e94-1474-47a4-ba4f-e2b71696b55c",
   "metadata": {
    "tags": []
   },
   "outputs": [
    {
     "data": {
      "text/plain": [
       "{1: 'pavan', 2: 23, 3: 45, 4: 'singh', 7: 100}"
      ]
     },
     "execution_count": 7,
     "metadata": {},
     "output_type": "execute_result"
    }
   ],
   "source": [
    "dict"
   ]
  },
  {
   "cell_type": "code",
   "execution_count": 8,
   "id": "ce2c09f6-722e-4509-9248-e4c7663677d1",
   "metadata": {
    "tags": []
   },
   "outputs": [],
   "source": [
    "dict[7]=123"
   ]
  },
  {
   "cell_type": "code",
   "execution_count": 9,
   "id": "5f59904f-35e3-4d0d-a38c-03de95e0e195",
   "metadata": {
    "tags": []
   },
   "outputs": [
    {
     "data": {
      "text/plain": [
       "123"
      ]
     },
     "execution_count": 9,
     "metadata": {},
     "output_type": "execute_result"
    }
   ],
   "source": [
    "dict[7]"
   ]
  },
  {
   "cell_type": "code",
   "execution_count": 10,
   "id": "5400f7b3-1a8c-400b-86e0-91db0fece6e6",
   "metadata": {
    "tags": []
   },
   "outputs": [
    {
     "data": {
      "text/plain": [
       "{1: 'pavan', 2: 23, 3: 45, 4: 'singh', 7: 123}"
      ]
     },
     "execution_count": 10,
     "metadata": {},
     "output_type": "execute_result"
    }
   ],
   "source": [
    "dict"
   ]
  }
 ],
 "metadata": {
  "kernelspec": {
   "display_name": "Python 3 (ipykernel)",
   "language": "python",
   "name": "python3"
  },
  "language_info": {
   "codemirror_mode": {
    "name": "ipython",
    "version": 3
   },
   "file_extension": ".py",
   "mimetype": "text/x-python",
   "name": "python",
   "nbconvert_exporter": "python",
   "pygments_lexer": "ipython3",
   "version": "3.10.5"
  }
 },
 "nbformat": 4,
 "nbformat_minor": 5
}
